{
  "nbformat": 4,
  "nbformat_minor": 0,
  "metadata": {
    "colab": {
      "name": "Untitled2.ipynb",
      "provenance": [],
      "authorship_tag": "ABX9TyNO7i2NxInm3lfEcuk20U+W",
      "include_colab_link": true
    },
    "kernelspec": {
      "name": "python3",
      "display_name": "Python 3"
    }
  },
  "cells": [
    {
      "cell_type": "markdown",
      "metadata": {
        "id": "view-in-github",
        "colab_type": "text"
      },
      "source": [
        "<a href=\"https://colab.research.google.com/github/gminor68gh/ML/blob/master/RL_CartPole.ipynb\" target=\"_parent\"><img src=\"https://colab.research.google.com/assets/colab-badge.svg\" alt=\"Open In Colab\"/></a>"
      ]
    },
    {
      "cell_type": "code",
      "metadata": {
        "id": "Let2fm0wkYlS",
        "colab_type": "code",
        "colab": {}
      },
      "source": [
        "import os\n",
        "os.kill(os.getpid(), 9)"
      ],
      "execution_count": 0,
      "outputs": []
    },
    {
      "cell_type": "code",
      "metadata": {
        "id": "DeujeMx_MkXR",
        "colab_type": "code",
        "colab": {
          "base_uri": "https://localhost:8080/",
          "height": 734
        },
        "outputId": "fe047354-20c1-447a-d557-2381e7d41aac"
      },
      "source": [
        "try:\n",
        "  %tensorflow_version 2.x\n",
        "except:\n",
        "  pass\n",
        "\n",
        "!sudo apt-get install -y xvfb ffmpeg\n",
        "!pip install 'gym==0.10.11'\n",
        "!pip install 'imageio==2.4.0'\n",
        "!pip install PILLOW\n",
        "!pip install 'pyglet==1.3.2'\n",
        "!pip install pyvirtualdisplay\n",
        "!pip install --upgrade tensorflow-probability\n",
        "!pip install tf-agents\n"
      ],
      "execution_count": 5,
      "outputs": [
        {
          "output_type": "stream",
          "text": [
            "TensorFlow 2.x selected.\n",
            "Reading package lists... Done\n",
            "Building dependency tree       \n",
            "Reading state information... Done\n",
            "ffmpeg is already the newest version (7:3.4.6-0ubuntu0.18.04.1).\n",
            "xvfb is already the newest version (2:1.19.6-1ubuntu4.4).\n",
            "0 upgraded, 0 newly installed, 0 to remove and 25 not upgraded.\n",
            "Requirement already satisfied: gym==0.10.11 in /usr/local/lib/python3.6/dist-packages (0.10.11)\n",
            "Requirement already satisfied: requests>=2.0 in /tensorflow-2.1.0/python3.6 (from gym==0.10.11) (2.23.0)\n",
            "Requirement already satisfied: six in /tensorflow-2.1.0/python3.6 (from gym==0.10.11) (1.14.0)\n",
            "Requirement already satisfied: scipy in /tensorflow-2.1.0/python3.6 (from gym==0.10.11) (1.4.1)\n",
            "Requirement already satisfied: pyglet>=1.2.0 in /usr/local/lib/python3.6/dist-packages (from gym==0.10.11) (1.3.2)\n",
            "Requirement already satisfied: numpy>=1.10.4 in /tensorflow-2.1.0/python3.6 (from gym==0.10.11) (1.18.1)\n",
            "Requirement already satisfied: chardet<4,>=3.0.2 in /tensorflow-2.1.0/python3.6 (from requests>=2.0->gym==0.10.11) (3.0.4)\n",
            "Requirement already satisfied: urllib3!=1.25.0,!=1.25.1,<1.26,>=1.21.1 in /tensorflow-2.1.0/python3.6 (from requests>=2.0->gym==0.10.11) (1.25.8)\n",
            "Requirement already satisfied: idna<3,>=2.5 in /tensorflow-2.1.0/python3.6 (from requests>=2.0->gym==0.10.11) (2.9)\n",
            "Requirement already satisfied: certifi>=2017.4.17 in /tensorflow-2.1.0/python3.6 (from requests>=2.0->gym==0.10.11) (2019.11.28)\n",
            "Requirement already satisfied: future in /usr/local/lib/python3.6/dist-packages (from pyglet>=1.2.0->gym==0.10.11) (0.16.0)\n",
            "Requirement already satisfied: imageio==2.4.0 in /usr/local/lib/python3.6/dist-packages (2.4.0)\n",
            "Requirement already satisfied: pillow in /usr/local/lib/python3.6/dist-packages (from imageio==2.4.0) (6.2.2)\n",
            "Requirement already satisfied: numpy in /tensorflow-2.1.0/python3.6 (from imageio==2.4.0) (1.18.1)\n",
            "Requirement already satisfied: PILLOW in /usr/local/lib/python3.6/dist-packages (6.2.2)\n",
            "Requirement already satisfied: pyglet==1.3.2 in /usr/local/lib/python3.6/dist-packages (1.3.2)\n",
            "Requirement already satisfied: future in /usr/local/lib/python3.6/dist-packages (from pyglet==1.3.2) (0.16.0)\n",
            "Requirement already satisfied: pyvirtualdisplay in /usr/local/lib/python3.6/dist-packages (0.2.5)\n",
            "Requirement already satisfied: EasyProcess in /usr/local/lib/python3.6/dist-packages (from pyvirtualdisplay) (0.2.10)\n",
            "Requirement already up-to-date: tensorflow-probability in /tensorflow-2.1.0/python3.6 (0.9.0)\n",
            "Requirement already satisfied, skipping upgrade: numpy>=1.13.3 in /tensorflow-2.1.0/python3.6 (from tensorflow-probability) (1.18.1)\n",
            "Requirement already satisfied, skipping upgrade: cloudpickle>=1.2.2 in /usr/local/lib/python3.6/dist-packages (from tensorflow-probability) (1.2.2)\n",
            "Requirement already satisfied, skipping upgrade: decorator in /usr/local/lib/python3.6/dist-packages (from tensorflow-probability) (4.4.1)\n",
            "Requirement already satisfied, skipping upgrade: gast>=0.2 in /tensorflow-2.1.0/python3.6 (from tensorflow-probability) (0.2.2)\n",
            "Requirement already satisfied, skipping upgrade: six>=1.10.0 in /tensorflow-2.1.0/python3.6 (from tensorflow-probability) (1.14.0)\n",
            "Requirement already satisfied: tf-agents in /usr/local/lib/python3.6/dist-packages (0.3.0)\n",
            "Requirement already satisfied: tensorflow-probability>=0.6.0 in /tensorflow-2.1.0/python3.6 (from tf-agents) (0.9.0)\n",
            "Requirement already satisfied: gin-config==0.1.3 in /usr/local/lib/python3.6/dist-packages (from tf-agents) (0.1.3)\n",
            "Requirement already satisfied: numpy>=1.13.3 in /tensorflow-2.1.0/python3.6 (from tf-agents) (1.18.1)\n",
            "Requirement already satisfied: absl-py>=0.6.1 in /tensorflow-2.1.0/python3.6 (from tf-agents) (0.9.0)\n",
            "Requirement already satisfied: six>=1.10.0 in /tensorflow-2.1.0/python3.6 (from tf-agents) (1.14.0)\n",
            "Requirement already satisfied: decorator in /usr/local/lib/python3.6/dist-packages (from tensorflow-probability>=0.6.0->tf-agents) (4.4.1)\n",
            "Requirement already satisfied: cloudpickle>=1.2.2 in /usr/local/lib/python3.6/dist-packages (from tensorflow-probability>=0.6.0->tf-agents) (1.2.2)\n",
            "Requirement already satisfied: gast>=0.2 in /tensorflow-2.1.0/python3.6 (from tensorflow-probability>=0.6.0->tf-agents) (0.2.2)\n"
          ],
          "name": "stdout"
        }
      ]
    },
    {
      "cell_type": "code",
      "metadata": {
        "id": "vwoJmEJFSHEk",
        "colab_type": "code",
        "colab": {
          "base_uri": "https://localhost:8080/",
          "height": 34
        },
        "outputId": "4c6f9dc1-c84f-4ce4-ae6c-b8aa48cb5068"
      },
      "source": [
        "\n",
        "from __future__ import absolute_import\n",
        "from __future__ import division\n",
        "from __future__ import print_function\n",
        "\n",
        "import base64\n",
        "import imageio\n",
        "import IPython\n",
        "import matplotlib\n",
        "import matplotlib.pyplot as plt\n",
        "import numpy as np\n",
        "import PIL.Image\n",
        "import pyvirtualdisplay\n",
        "\n",
        "import tensorflow as tf\n",
        "\n",
        "from tf_agents.agents.reinforce import reinforce_agent\n",
        "from tf_agents.drivers import dynamic_step_driver\n",
        "from tf_agents.environments import suite_gym\n",
        "from tf_agents.environments import tf_py_environment\n",
        "from tf_agents.eval import metric_utils\n",
        "from tf_agents.networks import actor_distribution_network\n",
        "from tf_agents.replay_buffers import tf_uniform_replay_buffer\n",
        "from tf_agents.trajectories import trajectory\n",
        "from tf_agents.utils import common\n",
        "\n",
        "tf.compat.v1.enable_v2_behavior()\n",
        "\n",
        "display = pyvirtualdisplay.Display(visible=0, size=(1400, 900)).start()\n"
      ],
      "execution_count": 6,
      "outputs": [
        {
          "output_type": "stream",
          "text": [
            "xdpyinfo was not found, X start can not be checked! Please install xdpyinfo!\n"
          ],
          "name": "stderr"
        }
      ]
    },
    {
      "cell_type": "code",
      "metadata": {
        "id": "ztLg3z-5SJsc",
        "colab_type": "code",
        "colab": {}
      },
      "source": [
        "\n",
        "# Hyperparameters\n",
        "env_name = \"CartPole-v0\"\n",
        "num_iterations = 250\n",
        "collect_episodes_per_iteration = 2\n",
        "replay_buffer_capacity = 2000\n",
        "\n",
        "fc_layer_params = (100,)\n",
        "\n",
        "learning_rate = 1e-3\n",
        "log_interval = 25\n",
        "num_eval_episodes = 10\n",
        "eval_interval = 50\n"
      ],
      "execution_count": 0,
      "outputs": []
    },
    {
      "cell_type": "code",
      "metadata": {
        "id": "gs8W1WWXXc-h",
        "colab_type": "code",
        "colab": {
          "base_uri": "https://localhost:8080/",
          "height": 417
        },
        "outputId": "43651d2f-8b90-4823-ee05-e6eecd6169ef"
      },
      "source": [
        "# Environment\n",
        "#@test {\"skip\": true}\n",
        "env = suite_gym.load(env_name)\n",
        "env.reset()\n",
        "PIL.Image.fromarray(env.render())"
      ],
      "execution_count": 8,
      "outputs": [
        {
          "output_type": "execute_result",
          "data": {
            "image/png": "[encoded data removed]",
            "text/plain": [
              "<PIL.Image.Image image mode=RGB size=600x400 at 0x7F60808E4CC0>"
            ]
          },
          "metadata": {
            "tags": []
          },
          "execution_count": 8
        }
      ]
    },
    {
      "cell_type": "code",
      "metadata": {
        "id": "WT3OiXFjmNlI",
        "colab_type": "code",
        "colab": {
          "base_uri": "https://localhost:8080/",
          "height": 173
        },
        "outputId": "16837bc8-882a-4e5a-c184-cd415a024e3b"
      },
      "source": [
        "\n",
        "print('Observation Spec:')\n",
        "print(env.time_step_spec().observation)\n",
        "print('Action Spec:')\n",
        "print(env.action_spec())\n",
        "\n",
        "time_step = env.reset()\n",
        "print('Time step:')\n",
        "print(time_step)\n",
        "\n",
        "action = np.array(1, dtype=np.int32)\n",
        "next_time_step = env.step(action)\n",
        "print('Next time step:')\n",
        "print(next_time_step)\n",
        "\n",
        "train_py_env = suite_gym.load(env_name)\n",
        "eval_py_env = suite_gym.load(env_name)\n",
        "\n",
        "train_env = tf_py_environment.TFPyEnvironment(train_py_env)\n",
        "eval_env = tf_py_environment.TFPyEnvironment(eval_py_env)\n"
      ],
      "execution_count": 9,
      "outputs": [
        {
          "output_type": "stream",
          "text": [
            "Observation Spec:\n",
            "BoundedArraySpec(shape=(4,), dtype=dtype('float32'), name='observation', minimum=[-4.8000002e+00 -3.4028235e+38 -4.1887903e-01 -3.4028235e+38], maximum=[4.8000002e+00 3.4028235e+38 4.1887903e-01 3.4028235e+38])\n",
            "Action Spec:\n",
            "BoundedArraySpec(shape=(), dtype=dtype('int64'), name='action', minimum=0, maximum=1)\n",
            "Time step:\n",
            "TimeStep(step_type=array(0, dtype=int32), reward=array(0., dtype=float32), discount=array(1., dtype=float32), observation=array([ 0.01535411, -0.02360665, -0.02608814,  0.02171631], dtype=float32))\n",
            "Next time step:\n",
            "TimeStep(step_type=array(1, dtype=int32), reward=array(1., dtype=float32), discount=array(1., dtype=float32), observation=array([ 0.01488198,  0.17187953, -0.02565381, -0.2790822 ], dtype=float32))\n"
          ],
          "name": "stdout"
        }
      ]
    },
    {
      "cell_type": "code",
      "metadata": {
        "id": "0euoxbZmUEjH",
        "colab_type": "code",
        "colab": {}
      },
      "source": [
        "# Agent\n",
        "\n",
        "actor_net = actor_distribution_network.ActorDistributionNetwork(\n",
        "    train_env.observation_spec(),\n",
        "    train_env.action_spec(),\n",
        "    fc_layer_params=fc_layer_params)\n",
        "\n",
        "optimizer = tf.compat.v1.train.AdamOptimizer(learning_rate=learning_rate)\n",
        "\n",
        "train_step_counter = tf.compat.v2.Variable(0)\n",
        "\n",
        "tf_agent = reinforce_agent.ReinforceAgent(\n",
        "    train_env.time_step_spec(),\n",
        "    train_env.action_spec(),\n",
        "    actor_network=actor_net,\n",
        "    optimizer=optimizer,\n",
        "    normalize_returns=True,\n",
        "    train_step_counter=train_step_counter)\n",
        "tf_agent.initialize()\n"
      ],
      "execution_count": 0,
      "outputs": []
    },
    {
      "cell_type": "code",
      "metadata": {
        "id": "-GzjNJWxW87t",
        "colab_type": "code",
        "colab": {}
      },
      "source": [
        "# Policies\n",
        "\n",
        "eval_policy = tf_agent.policy\n",
        "collect_policy = tf_agent.collect_policy\n"
      ],
      "execution_count": 0,
      "outputs": []
    },
    {
      "cell_type": "code",
      "metadata": {
        "id": "FSX2beqsXZgB",
        "colab_type": "code",
        "colab": {}
      },
      "source": [
        "# Metrics and Evaluation\n",
        "\n",
        "def compute_avg_return(environment, policy, num_episodes=10):\n",
        "  total_return = 0.0\n",
        "  for _ in range(num_episodes):\n",
        "    time_step = environment.reset()\n",
        "    episode_return = 0.0\n",
        "    while not time_step.is_last():\n",
        "      action_step = policy.action(time_step)\n",
        "      time_step = environment.step(action_step.action)\n",
        "      episode_return += time_step.reward\n",
        "    total_return += episode_return\n",
        "\n",
        "  avg_return = total_return / num_eval_episodes\n",
        "  print(avg_return)\n",
        "  return avg_return.numpy()[0]\n"
      ],
      "execution_count": 0,
      "outputs": []
    },
    {
      "cell_type": "code",
      "metadata": {
        "id": "NuWjG8YvaLF3",
        "colab_type": "code",
        "colab": {}
      },
      "source": [
        "# Replay Buffer\n",
        "\n",
        "replay_buffer = tf_uniform_replay_buffer.TFUniformReplayBuffer(\n",
        "    data_spec=tf_agent.collect_data_spec,\n",
        "    batch_size=train_env.batch_size,\n",
        "    max_length=replay_buffer_capacity)"
      ],
      "execution_count": 0,
      "outputs": []
    },
    {
      "cell_type": "code",
      "metadata": {
        "id": "RVwWkQW_azqX",
        "colab_type": "code",
        "colab": {}
      },
      "source": [
        "# Data Collection\n",
        "\n",
        "#@test {\"skip\": true}\n",
        "\n",
        "def collect_episode(environment, policy, num_episodes):\n",
        "\n",
        "  episode_counter = 0\n",
        "  environment.reset()\n",
        "\n",
        "  while episode_counter < num_episodes:\n",
        "    time_step = environment.current_time_step()\n",
        "    action_step = policy.action(time_step)\n",
        "    next_time_step = environment.step(action_step.action)\n",
        "    traj = trajectory.from_transition(time_step, action_step, next_time_step)\n",
        "\n",
        "    # Add trajectory to the replay buffer\n",
        "    replay_buffer.add_batch(traj)\n",
        "\n",
        "    if traj.is_boundary():\n",
        "      episode_counter += 1\n",
        "\n",
        "\n"
      ],
      "execution_count": 0,
      "outputs": []
    },
    {
      "cell_type": "code",
      "metadata": {
        "id": "YIHx_ybpc2sq",
        "colab_type": "code",
        "colab": {
          "base_uri": "https://localhost:8080/",
          "height": 408
        },
        "outputId": "cb9f0c23-1fd2-4aa2-9448-a9560a8ba2fb"
      },
      "source": [
        "# Training the agent\n",
        "\n",
        "#@test {\"skip\": true}\n",
        "try:\n",
        "  %%time\n",
        "except:\n",
        "  pass\n",
        "\n",
        "# (Optional) Optimize by wrapping some of the code in a graph using TF function.\n",
        "tf_agent.train = common.function(tf_agent.train)\n",
        "\n",
        "# Reset the train step\n",
        "tf_agent.train_step_counter.assign(0)\n",
        "\n",
        "# Evaluate the agent's policy once before training.\n",
        "avg_return = compute_avg_return(eval_env, tf_agent.policy, num_eval_episodes)\n",
        "returns = [avg_return]\n",
        "\n",
        "for _ in range(num_iterations):\n",
        "\n",
        "  # Collect a few episodes using collect_policy and save to the replay buffer.\n",
        "  collect_episode(\n",
        "      train_env, tf_agent.collect_policy, collect_episodes_per_iteration)\n",
        "\n",
        "  # Use data from the buffer and update the agent's network.\n",
        "  experience = replay_buffer.gather_all()\n",
        "  train_loss = tf_agent.train(experience)\n",
        "  replay_buffer.clear()\n",
        "\n",
        "  step = tf_agent.train_step_counter.numpy()\n",
        "\n",
        "  if step % log_interval == 0:\n",
        "    print('step = {0}: loss = {1}'.format(step, train_loss.loss))\n",
        "\n",
        "  if step % eval_interval == 0:\n",
        "    avg_return = compute_avg_return(eval_env, tf_agent.policy, num_eval_episodes)\n",
        "    print('step = {0}: Average Return = {1}'.format(step, avg_return))\n",
        "    returns.append(avg_return)"
      ],
      "execution_count": 15,
      "outputs": [
        {
          "output_type": "stream",
          "text": [
            "CPU times: user 3 µs, sys: 1 µs, total: 4 µs\n",
            "Wall time: 5.96 µs\n",
            "tf.Tensor([8.8], shape=(1,), dtype=float32)\n",
            "step = 25: loss = -0.07450294494628906\n",
            "step = 50: loss = 0.09164947271347046\n",
            "tf.Tensor([46.6], shape=(1,), dtype=float32)\n",
            "step = 50: Average Return = 46.599998474121094\n",
            "step = 75: loss = -0.38200947642326355\n",
            "step = 100: loss = -2.37935209274292\n",
            "tf.Tensor([81.3], shape=(1,), dtype=float32)\n",
            "step = 100: Average Return = 81.30000305175781\n",
            "step = 125: loss = -0.07739245891571045\n",
            "step = 150: loss = -0.7533381581306458\n",
            "tf.Tensor([126.5], shape=(1,), dtype=float32)\n",
            "step = 150: Average Return = 126.5\n",
            "step = 175: loss = -0.6712571382522583\n",
            "step = 200: loss = -3.5136494636535645\n",
            "tf.Tensor([200.], shape=(1,), dtype=float32)\n",
            "step = 200: Average Return = 200.0\n",
            "step = 225: loss = -1.660431146621704\n",
            "step = 250: loss = 1.2360010147094727\n",
            "tf.Tensor([200.], shape=(1,), dtype=float32)\n",
            "step = 250: Average Return = 200.0\n"
          ],
          "name": "stdout"
        }
      ]
    },
    {
      "cell_type": "code",
      "metadata": {
        "id": "foTm12P7qH18",
        "colab_type": "code",
        "colab": {
          "base_uri": "https://localhost:8080/",
          "height": 300
        },
        "outputId": "300c1d75-c35b-40d0-ac2a-3999f55784d6"
      },
      "source": [
        "# Visualization - Plots\n",
        "\n",
        "steps = range(0, num_iterations + 1, eval_interval)\n",
        "plt.plot(steps, returns)\n",
        "plt.ylabel('Average Return')\n",
        "plt.xlabel('Step')\n",
        "plt.ylim(top=250)\n",
        "\n"
      ],
      "execution_count": 16,
      "outputs": [
        {
          "output_type": "execute_result",
          "data": {
            "text/plain": [
              "(-0.7599997997283943, 250)"
            ]
          },
          "metadata": {
            "tags": []
          },
          "execution_count": 16
        },
        {
          "output_type": "display_data",
          "data": {
            "image/png": "[encoded data removed]",
            "text/plain": [
              "<Figure size 432x288 with 1 Axes>"
            ]
          },
          "metadata": {
            "tags": []
          }
        }
      ]
    },
    {
      "cell_type": "code",
      "metadata": {
        "id": "BWdyXET_q4jP",
        "colab_type": "code",
        "colab": {}
      },
      "source": [
        "# Visualization - Videos\n",
        "\n",
        "def embed_mp4(filename):\n",
        "  video = open(filename, 'rb').read()\n",
        "  b64 = base64.b64encode(video)\n",
        "  tag = '''\n",
        "    <video width=\"640\" height=\"480\" controls>\n",
        "      <source src=\"data:video/mp4;base64,{0}\" type=\"video/mp4\">\n",
        "    Your browser does not support the video tag.\n",
        "    </video>'''.format(b64.decode())\n",
        "  return IPython.display.HTML(tag)"
      ],
      "execution_count": 0,
      "outputs": []
    },
    {
      "cell_type": "code",
      "metadata": {
        "id": "8Az9F5Y_smBu",
        "colab_type": "code",
        "colab": {
          "base_uri": "https://localhost:8080/",
          "height": 538
        },
        "outputId": "026024a7-9b9a-4a89-ea12-070caa371370"
      },
      "source": [
        "num_episodes = 3\n",
        "video_filename = 'imageio.mp4'\n",
        "with imageio.get_writer(video_filename, fps=60) as video:\n",
        "  for _ in range(num_episodes):\n",
        "    time_step = eval_env.reset()\n",
        "    video.append_data(eval_py_env.render())\n",
        "    while not time_step.is_last():\n",
        "      action_step = tf_agent.policy.action(time_step)\n",
        "      time_step = eval_env.step(action_step.action)\n",
        "      video.append_data(eval_py_env.render())\n",
        "\n",
        "embed_mp4(video_filename)\n"
      ],
      "execution_count": 18,
      "outputs": [
        {
          "output_type": "stream",
          "text": [
            "WARNING:root:IMAGEIO FFMPEG_WRITER WARNING: input image is not divisible by macro_block_size=16, resizing from (400, 600) to (400, 608) to ensure video compatibility with most codecs and players. To prevent resizing, make your input image divisible by the macro_block_size or set the macro_block_size to None (risking incompatibility). You may also see a FFMPEG warning concerning speedloss due to data not being aligned.\n"
          ],
          "name": "stderr"
        },
        {
          "output_type": "execute_result",
          "data": {
            "text/html": [
              "\n",
              "    <video width=\"640\" height=\"480\" controls>\n",
              "      <source src=\"data:video/mp4;base64,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\" type=\"video/mp4\">\n",
              "    Your browser does not support the video tag.\n",
              "    </video>"
            ],
            "text/plain": [
              "<IPython.core.display.HTML object>"
            ]
          },
          "metadata": {
            "tags": []
          },
          "execution_count": 18
        }
      ]
    }
  ]
}