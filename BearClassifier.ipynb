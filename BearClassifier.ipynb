{
 "cells": [
  {
   "cell_type": "code",
   "execution_count": null,
   "metadata": {
    "gradient": {}
   },
   "outputs": [],
   "source": [
    "import fastbook\n",
    "from fastbook import *\n",
    "from fastai.vision.widgets import *\n",
    "from utils import *\n",
    "\n",
    "\n",
    "path = Path()\n",
    "learn_inf = load_learner(path/'export.pkl')\n",
    "\n",
    "\n",
    "btn_upload = widgets.FileUpload()\n",
    "\n",
    "def on_click_classify(change):\n",
    "    img = PILImage.create(btn_upload.data[-1])\n",
    "    out_pl.clear_output()\n",
    "    with out_pl: display(img.to_thumb(128,128))\n",
    "    pred,pred_idx,probs = learn_inf.predict(img)\n",
    "    lbl_pred.value = f'Prediction: {pred}; Probability: {probs[pred_idx]:.04f}'\n",
    "\n",
    "btn_run = widgets.Button(description='Classify')\n",
    "btn_run.on_click(on_click_classify)\n",
    "\n",
    "out_pl = widgets.Output()\n",
    "\n",
    "lbl_pred = widgets.Label()\n",
    "\n",
    "VBox([widgets.Label('Select your bear!'), btn_upload, btn_run, out_pl, lbl_pred])\n"
   ]
  }
 ],
 "metadata": {
  "kernelspec": {
   "display_name": "Python 3",
   "language": "python",
   "name": "python3"
  },
  "language_info": {
   "codemirror_mode": {
    "name": "ipython",
    "version": 3
   },
   "file_extension": ".py",
   "mimetype": "text/x-python",
   "name": "python",
   "nbconvert_exporter": "python",
   "pygments_lexer": "ipython3",
   "version": "3.8.6"
  }
 },
 "nbformat": 4,
 "nbformat_minor": 4
}
