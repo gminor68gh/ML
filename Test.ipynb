{
  "nbformat": 4,
  "nbformat_minor": 0,
  "metadata": {
    "colab": {
      "name": "Untitled4.ipynb",
      "provenance": [],
      "authorship_tag": "ABX9TyPMG3a72/TJVNMdUBT1M+7E",
      "include_colab_link": true
    },
    "kernelspec": {
      "name": "python3",
      "display_name": "Python 3"
    },
    "language_info": {
      "name": "python"
    }
  },
  "cells": [
    {
      "cell_type": "markdown",
      "metadata": {
        "id": "view-in-github",
        "colab_type": "text"
      },
      "source": [
        "<a href=\"https://colab.research.google.com/github/gminor68gh/ML/blob/master/Test.ipynb\" target=\"_parent\"><img src=\"https://colab.research.google.com/assets/colab-badge.svg\" alt=\"Open In Colab\"/></a>"
      ]
    },
    {
      "cell_type": "code",
      "metadata": {
        "id": "M0artH_pZDCU"
      },
      "source": [
        "btn_upload = widgets.FileUpload()\n",
        "\n",
        "def on_click_classify(change):\n",
        "    img = PILImage.create(btn_upload.data[-1])\n",
        "    out_pl.clear_output()\n",
        "    with out_pl: display(img.to_thumb(128,128))\n",
        "    pred,pred_idx,probs = learn_inf.predict(img)\n",
        "    lbl_pred.value = f'Prediction: {pred}; Probability: {probs[pred_idx]:.04f}'\n",
        "\n",
        "btn_run = widgets.Button(description='Classify')\n",
        "btn_run.on_click(on_click_classify)\n",
        "\n",
        "out_pl = widgets.Output()\n",
        "\n",
        "lbl_pred = widgets.Label()\n",
        "\n",
        "VBox([widgets.Label('Select your bear!'), btn_upload, btn_run, out_pl, lbl_pred])\n"
      ],
      "execution_count": null,
      "outputs": []
    }
  ]
}