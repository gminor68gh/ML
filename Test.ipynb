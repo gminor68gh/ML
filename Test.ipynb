btn_upload = widgets.FileUpload()

def on_click_classify(change):
    img = PILImage.create(btn_upload.data[-1])
    out_pl.clear_output()
    with out_pl: display(img.to_thumb(128,128))
    pred,pred_idx,probs = learn_inf.predict(img)
    lbl_pred.value = f'Prediction: {pred}; Probability: {probs[pred_idx]:.04f}'

btn_run = widgets.Button(description='Classify')
btn_run.on_click(on_click_classify)

out_pl = widgets.Output()

lbl_pred = widgets.Label()

VBox([widgets.Label('Select your bear!'), btn_upload, btn_run, out_pl, lbl_pred])

